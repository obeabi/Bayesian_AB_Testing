{
  "nbformat": 4,
  "nbformat_minor": 0,
  "metadata": {
    "colab": {
      "name": "ucb1_BERNOULI.ipynb",
      "provenance": [],
      "authorship_tag": "ABX9TyMXFMLKdY8XvKMty2XG9Coa",
      "include_colab_link": true
    },
    "kernelspec": {
      "name": "python3",
      "display_name": "Python 3"
    },
    "language_info": {
      "name": "python"
    }
  },
  "cells": [
    {
      "cell_type": "markdown",
      "metadata": {
        "id": "view-in-github",
        "colab_type": "text"
      },
      "source": [
        "<a href=\"https://colab.research.google.com/github/obeabi/Bayesian_AB_Testing/blob/main/ucb1_BERNOULI.ipynb\" target=\"_parent\"><img src=\"https://colab.research.google.com/assets/colab-badge.svg\" alt=\"Open In Colab\"/></a>"
      ]
    },
    {
      "cell_type": "code",
      "execution_count": 5,
      "metadata": {
        "id": "kiP6-a0KOG8o"
      },
      "outputs": [],
      "source": [
        "import matplotlib.pyplot as plt\n",
        "import numpy as np"
      ]
    },
    {
      "cell_type": "code",
      "source": [
        "NUM_TRIALS = 100000\n",
        "EPS = 0.1\n",
        "BANDIT_PROBABILITIES = [0.2, 0.5, 0.75]"
      ],
      "metadata": {
        "id": "cvTN_EhiOY86"
      },
      "execution_count": 6,
      "outputs": []
    },
    {
      "cell_type": "markdown",
      "source": [
        "Bandit Class"
      ],
      "metadata": {
        "id": "cGURHirEOfii"
      }
    },
    {
      "cell_type": "code",
      "source": [
        "class Bandit:\n",
        "  def __init__(self, p):\n",
        "    # p: the win rate\n",
        "    self.p = p\n",
        "    self.p_estimate = 0.\n",
        "    self.N = 0. # num samples collected so far\n",
        "\n",
        "  def pull(self):\n",
        "    # draw a 1 with probability p\n",
        "    return np.random.random() < self.p\n",
        "\n",
        "  def update(self, x):\n",
        "    self.N += 1.\n",
        "    self.p_estimate = ((self.N - 1)*self.p_estimate + x) / self.N"
      ],
      "metadata": {
        "id": "d1XolQZdOajY"
      },
      "execution_count": 7,
      "outputs": []
    },
    {
      "cell_type": "markdown",
      "source": [
        "UCB1 Function"
      ],
      "metadata": {
        "id": "A7VyCx6UOngi"
      }
    },
    {
      "cell_type": "code",
      "source": [
        "\n",
        "def ucb(mean, n, nj):\n",
        "  return mean + np.sqrt(2*np.log(n)/ nj)"
      ],
      "metadata": {
        "id": "9utw4KNGOlNZ"
      },
      "execution_count": 15,
      "outputs": []
    },
    {
      "cell_type": "markdown",
      "source": [
        "Experiment function"
      ],
      "metadata": {
        "id": "pRGMNBjURKlF"
      }
    },
    {
      "cell_type": "code",
      "source": [
        "def run_experiment():\n",
        "  bandits = [Bandit(p) for p in BANDIT_PROBABILITIES]\n",
        "  rewards = np.empty(NUM_TRIALS)\n",
        "  total_plays = 0\n",
        "\n",
        "  # initialization: play each bandit once\n",
        "  for j in range(len(bandits)):\n",
        "    x = bandits[j].pull()\n",
        "    total_plays += 1\n",
        "    bandits[j].update(x)\n",
        "  \n",
        "  for i in range(NUM_TRIALS):\n",
        "    j = np.argmax( [ucb(b.p_estimate, total_plays, b.N) for b in bandits])\n",
        "    x = bandits[j].pull()\n",
        "    total_plays += 1\n",
        "    bandits[j].update(x)\n",
        "\n",
        "    # for the plot\n",
        "    rewards[i] = x\n",
        "  cumulative_average = np.cumsum(rewards) / (np.arange(NUM_TRIALS) + 1)\n",
        "\n",
        "# plot moving average ctr\n",
        "  plt.plot(cumulative_average)\n",
        "  plt.plot(np.ones(NUM_TRIALS)*np.max(BANDIT_PROBABILITIES))\n",
        "  plt.xscale('log')\n",
        "  plt.show()\n",
        "\n",
        "  # plot moving average ctr linear\n",
        "  plt.plot(cumulative_average)\n",
        "  plt.plot(np.ones(NUM_TRIALS)*np.max(BANDIT_PROBABILITIES))\n",
        "  plt.show()\n",
        "\n",
        "  for b in bandits:\n",
        "    print(b.p_estimate)\n",
        "\n",
        "  print(\"total reward earned:\", rewards.sum())\n",
        "  print(\"overall win rate:\", rewards.sum() / NUM_TRIALS)\n",
        "  print(\"num times selected each bandit:\", [b.N for b in bandits])\n",
        "\n",
        "  return cumulative_average\n",
        "\n",
        "if __name__ == '__main__':\n",
        "  run_experiment()\n"
      ],
      "metadata": {
        "colab": {
          "base_uri": "https://localhost:8080/",
          "height": 621
        },
        "id": "v-cU1ykNPwpu",
        "outputId": "6fb4083a-c5d3-4275-f058-e4951289338d"
      },
      "execution_count": 16,
      "outputs": [
        {
          "output_type": "display_data",
          "data": {
            "image/png": "[encoded data removed]",
            "text/plain": [
              "<Figure size 432x288 with 1 Axes>"
            ]
          },
          "metadata": {
            "needs_background": "light"
          }
        },
        {
          "output_type": "display_data",
          "data": {
            "image/png": "[encoded data removed]",
            "text/plain": [
              "<Figure size 432x288 with 1 Axes>"
            ]
          },
          "metadata": {
            "needs_background": "light"
          }
        },
        {
          "output_type": "stream",
          "name": "stdout",
          "text": [
            "0.21052631578947367\n",
            "0.49529780564263276\n",
            "0.7499297245201217\n",
            "total reward earned: 74873.0\n",
            "overall win rate: 0.74873\n",
            "num times selected each bandit: [76.0, 319.0, 99608.0]\n"
          ]
        }
      ]
    }
  ]
}