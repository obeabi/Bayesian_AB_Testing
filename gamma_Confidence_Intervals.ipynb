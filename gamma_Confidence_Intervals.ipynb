{
  "nbformat": 4,
  "nbformat_minor": 0,
  "metadata": {
    "colab": {
      "name": "gamma_Confidence_Intervals.ipynb",
      "provenance": [],
      "authorship_tag": "ABX9TyPmrSd9igbiHN4LAgmlsAKh",
      "include_colab_link": true
    },
    "kernelspec": {
      "name": "python3",
      "display_name": "Python 3"
    },
    "language_info": {
      "name": "python"
    }
  },
  "cells": [
    {
      "cell_type": "markdown",
      "metadata": {
        "id": "view-in-github",
        "colab_type": "text"
      },
      "source": [
        "<a href=\"https://colab.research.google.com/github/obeabi/Bayesian_AB_Testing/blob/main/gamma_Confidence_Intervals.ipynb\" target=\"_parent\"><img src=\"https://colab.research.google.com/assets/colab-badge.svg\" alt=\"Open In Colab\"/></a>"
      ]
    },
    {
      "cell_type": "code",
      "metadata": {
        "id": "EdBI0jsBYho0"
      },
      "source": [
        "import numpy as np\n",
        "from scipy.stats import norm"
      ],
      "execution_count": 1,
      "outputs": []
    },
    {
      "cell_type": "code",
      "metadata": {
        "id": "Q8HzKaEUbkSZ"
      },
      "source": [
        "# input confidence interval of interest\n",
        "gamma = 0.95"
      ],
      "execution_count": 8,
      "outputs": []
    },
    {
      "cell_type": "code",
      "metadata": {
        "colab": {
          "base_uri": "https://localhost:8080/"
        },
        "id": "MmCtehU8bNj4",
        "outputId": "35844a15-7560-4283-8ae5-3b642744c18f"
      },
      "source": [
        "# Calculate y_right\n",
        "y_right = 1 - ((1-gamma)/2)\n",
        "y_right"
      ],
      "execution_count": 11,
      "outputs": [
        {
          "output_type": "execute_result",
          "data": {
            "text/plain": [
              "0.975"
            ]
          },
          "metadata": {},
          "execution_count": 11
        }
      ]
    },
    {
      "cell_type": "code",
      "metadata": {
        "colab": {
          "base_uri": "https://localhost:8080/"
        },
        "id": "_u0_eNg5b3Tv",
        "outputId": "5f2267f8-e0d7-462d-db9d-acf8d7e90581"
      },
      "source": [
        "# Calculate y_left\n",
        "y_left = (1-gamma)/2\n",
        "y_left"
      ],
      "execution_count": 14,
      "outputs": [
        {
          "output_type": "execute_result",
          "data": {
            "text/plain": [
              "0.025000000000000022"
            ]
          },
          "metadata": {},
          "execution_count": 14
        }
      ]
    },
    {
      "cell_type": "code",
      "metadata": {
        "colab": {
          "base_uri": "https://localhost:8080/"
        },
        "id": "hOFiKBKpYp3m",
        "outputId": "d7e4aec7-4d0c-45e0-fa62-dbb7777ac008"
      },
      "source": [
        "# calculate z_right and z_left for the standard normal distribution (i.e. mean = 0, variance = 1)\n",
        "z_right = norm.ppf(y_right, 0, 1)\n",
        "z_left = norm.ppf(y_left,0,1)\n",
        "\n",
        "print(z_right)\n",
        "print(z_left)"
      ],
      "execution_count": 15,
      "outputs": [
        {
          "output_type": "stream",
          "name": "stdout",
          "text": [
            "1.959963984540054\n",
            "-1.959963984540054\n"
          ]
        }
      ]
    },
    {
      "cell_type": "markdown",
      "metadata": {
        "id": "JVLZxwlCckCq"
      },
      "source": [
        "The confidence interval is thus\n",
        "\n",
        "lower_bound = mui_hat - 1.96* sigma_hat/sqrt(N) \n",
        "\n",
        "\n",
        "\n",
        "upper_bound = mui_hat + 1.96* sigma_hat/sqrt(N)"
      ]
    },
    {
      "cell_type": "markdown",
      "metadata": {
        "id": "oAcqhvhBhSdv"
      },
      "source": [
        "t-distribution"
      ]
    },
    {
      "cell_type": "code",
      "metadata": {
        "id": "WX-gZMRbchyd"
      },
      "source": [
        "# import t distribution form scipy\n",
        "from scipy.stats import t"
      ],
      "execution_count": 17,
      "outputs": []
    },
    {
      "cell_type": "code",
      "metadata": {
        "id": "wctOOmRUhrIw"
      },
      "source": [
        "# Number of samples and confidence interval\n",
        "N = 150\n",
        "gamma = 0.95"
      ],
      "execution_count": 18,
      "outputs": []
    },
    {
      "cell_type": "code",
      "metadata": {
        "colab": {
          "base_uri": "https://localhost:8080/"
        },
        "id": "0CNOF9HYh34u",
        "outputId": "6667199b-79d6-4734-f85f-f7160c1098fb"
      },
      "source": [
        "# calculate t_right and t_left for the t-distribution (i.e. mean = 0, variance = 1)\n",
        "t_right = t.ppf(y_right, df= N-1)\n",
        "t_left = t.ppf(y_left,df= N-1)\n",
        "\n",
        "print(t_right)\n",
        "print(t_left)"
      ],
      "execution_count": 20,
      "outputs": [
        {
          "output_type": "stream",
          "name": "stdout",
          "text": [
            "1.976013177679155\n",
            "-1.976013177679155\n"
          ]
        }
      ]
    },
    {
      "cell_type": "markdown",
      "metadata": {
        "id": "bvdX1bDlia3d"
      },
      "source": [
        "The confidence interval is thus\n",
        "\n",
        "lower_bound = mui_hat + t_left* sigma_hat/sqrt(N) \n",
        "\n",
        "\n",
        "\n",
        "upper_bound = mui_hat + t_right* sigma_hat/sqrt(N)"
      ]
    },
    {
      "cell_type": "code",
      "metadata": {
        "id": "6ui1_uNcjik3"
      },
      "source": [
        "np.random.seed(1)\n",
        "N = 1000\n",
        "mu = 5\n",
        "sigma = 2\n",
        "X = np.random.randn(N) * sigma + mu  # returns samples from the standard normal"
      ],
      "execution_count": 22,
      "outputs": []
    },
    {
      "cell_type": "code",
      "metadata": {
        "colab": {
          "base_uri": "https://localhost:8080/"
        },
        "id": "M12a_bgbj9YR",
        "outputId": "a62a82dc-0aea-409b-9db5-8e3d81b0e199"
      },
      "source": [
        "# Z-confidence interval fro gamma\n",
        "gamma = 0.90\n",
        "mui_hat = np.mean(X)\n",
        "sigma_hat = np.std(X, ddof= 1)\n",
        "y_right = 1 - ((1-gamma)/2)\n",
        "y_left = (1-gamma)/2\n",
        "z_right = norm.ppf(y_right)\n",
        "z_left = norm.ppf(y_left)\n",
        "\n",
        "\n",
        "# Calculate upper and lower bounds\n",
        "lower = mui_hat + (z_left * sigma_hat/np.sqrt(N))\n",
        "upper = mui_hat + (z_right * sigma_hat/np.sqrt(N))\n",
        "\n",
        "\n",
        "print(mui_hat,lower,upper)\n"
      ],
      "execution_count": 27,
      "outputs": [
        {
          "output_type": "stream",
          "name": "stdout",
          "text": [
            "5.077624952319204 4.9755203434925095 5.179729561145899\n"
          ]
        }
      ]
    },
    {
      "cell_type": "code",
      "metadata": {
        "colab": {
          "base_uri": "https://localhost:8080/"
        },
        "id": "ey1fMHjBl8eJ",
        "outputId": "6a0dcde4-c808-46a6-a43a-0bd6952049af"
      },
      "source": [
        "# t-confidence interval for gamma\n",
        "gamma = 0.90\n",
        "mui_hat = np.mean(X)\n",
        "sigma_hat = np.std(X, ddof= 1)\n",
        "y_right = 1 - ((1-gamma)/2)\n",
        "y_left = (1-gamma)/2\n",
        "t_right = t.ppf(y_right, df = N-1)\n",
        "t_left = t.ppf(y_left, df = N-1)\n",
        "\n",
        "\n",
        "# Calculate upper and lower bounds\n",
        "lower = mui_hat + (t_left * sigma_hat/np.sqrt(N))\n",
        "upper = mui_hat + (t_right * sigma_hat/np.sqrt(N))\n",
        "\n",
        "\n",
        "print(mui_hat,lower,upper)"
      ],
      "execution_count": 28,
      "outputs": [
        {
          "output_type": "stream",
          "name": "stdout",
          "text": [
            "5.077624952319204 4.975425572146152 5.179824332492256\n"
          ]
        }
      ]
    },
    {
      "cell_type": "code",
      "metadata": {
        "id": "jKb7pwlirQzv"
      },
      "source": [
        "# Interpretaion of confidence interval\n",
        "# If we do this experiment many times, then for 95% CI\n",
        "# the 95% CI should contain the true value 95% of the time\n",
        "\n",
        "def experiment():\n",
        "  X = np.random.randn(N)*sigma + mu\n",
        "  mu_hat = np.mean(X)\n",
        "  sigma_hat = np.std(X,ddof= 1)\n",
        "  t_left = t.ppf(0.025, df = N-1)\n",
        "  t_right = t.ppf(0.975, df = N-1)\n",
        "  lower = mu_hat + (t_left * sigma_hat/np.sqrt(N))\n",
        "  upper = mu_hat + (t_right * sigma_hat/np.sqrt(N))\n",
        "\n",
        "  return mu > lower and mu < upper\n",
        "\n"
      ],
      "execution_count": 32,
      "outputs": []
    },
    {
      "cell_type": "code",
      "metadata": {
        "id": "xfvbAs68sM4g"
      },
      "source": [
        "def multi_experiment(M):\n",
        "  results = [experiment() for _ in range(M)]\n",
        "  return np.mean(results)"
      ],
      "execution_count": 33,
      "outputs": []
    },
    {
      "cell_type": "code",
      "metadata": {
        "colab": {
          "base_uri": "https://localhost:8080/"
        },
        "id": "9GCsLULOsdpm",
        "outputId": "5480d689-310e-46cf-c5f9-216012738568"
      },
      "source": [
        "multi_experiment(1000)"
      ],
      "execution_count": 37,
      "outputs": [
        {
          "output_type": "execute_result",
          "data": {
            "text/plain": [
              "0.953"
            ]
          },
          "metadata": {},
          "execution_count": 37
        }
      ]
    }
  ]
}