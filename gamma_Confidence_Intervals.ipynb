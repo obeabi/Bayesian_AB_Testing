{
  "nbformat": 4,
  "nbformat_minor": 0,
  "metadata": {
    "colab": {
      "name": "gamma_Confidence_Intervals.ipynb",
      "provenance": [],
      "authorship_tag": "ABX9TyNDR0ffRQ9B54SKpeb9Xzso",
      "include_colab_link": true
    },
    "kernelspec": {
      "name": "python3",
      "display_name": "Python 3"
    },
    "language_info": {
      "name": "python"
    }
  },
  "cells": [
    {
      "cell_type": "markdown",
      "metadata": {
        "id": "view-in-github",
        "colab_type": "text"
      },
      "source": [
        "<a href=\"https://colab.research.google.com/github/obeabi/Bayesian_AB_Testing/blob/main/gamma_Confidence_Intervals.ipynb\" target=\"_parent\"><img src=\"https://colab.research.google.com/assets/colab-badge.svg\" alt=\"Open In Colab\"/></a>"
      ]
    },
    {
      "cell_type": "code",
      "metadata": {
        "id": "EdBI0jsBYho0"
      },
      "source": [
        "import numpy as np\n",
        "from scipy.stats import norm"
      ],
      "execution_count": 1,
      "outputs": []
    },
    {
      "cell_type": "code",
      "metadata": {
        "id": "Q8HzKaEUbkSZ"
      },
      "source": [
        "# input confidence interval of interest\n",
        "gamma = 0.95"
      ],
      "execution_count": 8,
      "outputs": []
    },
    {
      "cell_type": "code",
      "metadata": {
        "colab": {
          "base_uri": "https://localhost:8080/"
        },
        "id": "MmCtehU8bNj4",
        "outputId": "35844a15-7560-4283-8ae5-3b642744c18f"
      },
      "source": [
        "# Calculate y_right\n",
        "y_right = 1 - ((1-gamma)/2)\n",
        "y_right"
      ],
      "execution_count": 11,
      "outputs": [
        {
          "output_type": "execute_result",
          "data": {
            "text/plain": [
              "0.975"
            ]
          },
          "metadata": {},
          "execution_count": 11
        }
      ]
    },
    {
      "cell_type": "code",
      "metadata": {
        "colab": {
          "base_uri": "https://localhost:8080/"
        },
        "id": "_u0_eNg5b3Tv",
        "outputId": "5f2267f8-e0d7-462d-db9d-acf8d7e90581"
      },
      "source": [
        "# Calculate y_left\n",
        "y_left = (1-gamma)/2\n",
        "y_left"
      ],
      "execution_count": 14,
      "outputs": [
        {
          "output_type": "execute_result",
          "data": {
            "text/plain": [
              "0.025000000000000022"
            ]
          },
          "metadata": {},
          "execution_count": 14
        }
      ]
    },
    {
      "cell_type": "code",
      "metadata": {
        "colab": {
          "base_uri": "https://localhost:8080/"
        },
        "id": "hOFiKBKpYp3m",
        "outputId": "d7e4aec7-4d0c-45e0-fa62-dbb7777ac008"
      },
      "source": [
        "# calculate z_right and z_left for the standard normal distribution (i.e. mean = 0, variance = 1)\n",
        "z_right = norm.ppf(y_right, 0, 1)\n",
        "z_left = norm.ppf(y_left,0,1)\n",
        "\n",
        "print(z_right)\n",
        "print(z_left)"
      ],
      "execution_count": 15,
      "outputs": [
        {
          "output_type": "stream",
          "name": "stdout",
          "text": [
            "1.959963984540054\n",
            "-1.959963984540054\n"
          ]
        }
      ]
    },
    {
      "cell_type": "markdown",
      "metadata": {
        "id": "JVLZxwlCckCq"
      },
      "source": [
        "the confidence interval is thus\n",
        "\n",
        "lower_bound = mui_hat - 1.96* sigma/sqrt(N) \n",
        "\n",
        "\n",
        "\n",
        "upper_bound = mui_hat + 1.96* sigma/sqrt(N)"
      ]
    },
    {
      "cell_type": "code",
      "metadata": {
        "id": "WX-gZMRbchyd"
      },
      "source": [
        ""
      ],
      "execution_count": null,
      "outputs": []
    }
  ]
}