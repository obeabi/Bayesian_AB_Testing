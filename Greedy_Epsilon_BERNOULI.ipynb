{
  "nbformat": 4,
  "nbformat_minor": 0,
  "metadata": {
    "colab": {
      "name": "Greedy_Epsilon_BERNOULI.ipynb",
      "provenance": [],
      "authorship_tag": "ABX9TyPnWb+loz/sCjNEoCGZzVth",
      "include_colab_link": true
    },
    "kernelspec": {
      "name": "python3",
      "display_name": "Python 3"
    },
    "language_info": {
      "name": "python"
    }
  },
  "cells": [
    {
      "cell_type": "markdown",
      "metadata": {
        "id": "view-in-github",
        "colab_type": "text"
      },
      "source": [
        "<a href=\"https://colab.research.google.com/github/obeabi/Bayesian_AB_Testing/blob/main/Greedy_Epsilon_BERNOULI.ipynb\" target=\"_parent\"><img src=\"https://colab.research.google.com/assets/colab-badge.svg\" alt=\"Open In Colab\"/></a>"
      ]
    },
    {
      "cell_type": "code",
      "metadata": {
        "id": "nZIhdr-okpKB"
      },
      "source": [
        "import matplotlib.pyplot as plt\n",
        "import numpy as np\n"
      ],
      "execution_count": 44,
      "outputs": []
    },
    {
      "cell_type": "code",
      "metadata": {
        "id": "oKSqDz3ooDe6"
      },
      "source": [
        "# Initalizw constant\n",
        "NUM_TRIALS = 10000\n",
        "EPS = 0.1\n",
        "\n",
        "\n",
        "# True win rates of bandits or prboabiilties of bandits\n",
        "BANDIT_PROBABILITIES = [0.2, 0.5, 0.75]   "
      ],
      "execution_count": 45,
      "outputs": []
    },
    {
      "cell_type": "markdown",
      "metadata": {
        "id": "HPKDwd0Pol8d"
      },
      "source": [
        "## Epsilon-Greedy Algorithm"
      ]
    },
    {
      "cell_type": "code",
      "metadata": {
        "id": "4r1ycDlPofAu"
      },
      "source": [
        "\n",
        "class BanditArm:\n",
        "  def __init__(self, p,EPS):\n",
        "    # p: the win rate\n",
        "    self.p = p\n",
        "    self.p_estimate = 0\n",
        "    self.N = 0\n",
        "    self.EPS = EPS\n",
        "\n",
        "  def pull(self):\n",
        "    # draw a 1 with probability p\n",
        "    return np.random.random() < self.p\n",
        "\n",
        "  def update(self, x):\n",
        "    self.N =  self.N + 1 # NUMBER OF SAMPLE COLLECTED\n",
        "    self.p_estimate = ((self.N - 1)* self.p_estimate    + x)/ self.N\n",
        "\n",
        "\n",
        "  def update_EPS(self, EPS):\n",
        "      self.EPS = 0*(self.EPS *0.75**0.5)\n",
        "\n",
        "\n"
      ],
      "execution_count": 47,
      "outputs": []
    },
    {
      "cell_type": "code",
      "metadata": {
        "colab": {
          "base_uri": "https://localhost:8080/",
          "height": 404
        },
        "id": "UpT_JZIYtT41",
        "outputId": "6cb490dc-ca4a-4a73-ad1f-1ae20ff3def4"
      },
      "source": [
        "def experiment():\n",
        "  bandits = [BanditArm(p,EPS) for p in BANDIT_PROBABILITIES]\n",
        "\n",
        "  rewards = np.zeros(NUM_TRIALS)\n",
        "  num_times_explored = 0\n",
        "  num_times_exploited = 0\n",
        "  num_optimal = 0\n",
        "  optimal_j = np.argmax([b.p for b in bandits]) # WILL NOT E KNOWN IN REAL LIFE\n",
        "  print(\"optimal j:\", optimal_j)\n",
        "\n",
        "  for i in range(NUM_TRIALS):\n",
        "\n",
        "    # use epsilon-greedy to select the next bandit\n",
        "    if np.random.random() < EPS:\n",
        "      num_times_explored += 1\n",
        "      j = np.random.randint(len(bandits))\n",
        "\n",
        "    else:\n",
        "      num_times_exploited += 1\n",
        "      j = np.argmax([b.p_estimate for b in bandits])\n",
        "\n",
        "    # Will not be known in real life\n",
        "    if j == optimal_j:\n",
        "      num_optimal += 1\n",
        "\n",
        "    # pull the arm for the bandit with the largest sample\n",
        "    x = bandits[j].pull()\n",
        "\n",
        "    # update rewards log\n",
        "    rewards[i] = x\n",
        "\n",
        "    # update the distribution for the bandit whose arm we just pulled\n",
        "    bandits[j].update(x)\n",
        "\n",
        "      # update the distribution for the bandit whose arm we just pulled\n",
        "    bandits[j].update_EPS(EPS)\n",
        "     \n",
        "\n",
        " \n",
        "\n",
        "  # print mean estimates for each bandit\n",
        "  for b in bandits:\n",
        "    print(\"mean estimate:\", b.p_estimate)\n",
        "\n",
        "  # print total reward\n",
        "  print(\"total reward earned:\", rewards.sum())\n",
        "  print(\"overall win rate:\", rewards.sum() / NUM_TRIALS)\n",
        "  print(\"num_times_explored:\", num_times_explored)\n",
        "  print(\"num_times_exploited:\", num_times_exploited)\n",
        "  #print(\"num times selected optimal bandit:\", num_optimal)\n",
        "\n",
        "  # plot the results\n",
        "  cumulative_rewards = np.cumsum(rewards)\n",
        "  win_rates = cumulative_rewards / (np.arange(NUM_TRIALS) + 1)\n",
        "  plt.plot(win_rates)\n",
        "  #plt.plot(np.ones(NUM_TRIALS)*np.max(BANDIT_PROBABILITIES))\n",
        "  plt.show()\n",
        "\n",
        "\n",
        "if __name__ == \"__main__\":\n",
        "  experiment() \n",
        "\n"
      ],
      "execution_count": 48,
      "outputs": [
        {
          "output_type": "stream",
          "name": "stdout",
          "text": [
            "optimal j: 2\n",
            "mean estimate: 0.19302949061662195\n",
            "mean estimate: 0.4725609756097563\n",
            "mean estimate: 0.7498655769437585\n",
            "total reward earned: 7200.0\n",
            "overall win rate: 0.72\n",
            "num_times_explored: 998\n",
            "num_times_exploited: 9002\n"
          ]
        },
        {
          "output_type": "display_data",
          "data": {
            "image/png": "[encoded data removed]",
            "text/plain": [
              "<Figure size 432x288 with 1 Axes>"
            ]
          },
          "metadata": {
            "needs_background": "light"
          }
        }
      ]
    }
  ]
}