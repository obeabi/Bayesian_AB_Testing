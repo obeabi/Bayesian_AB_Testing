{
  "nbformat": 4,
  "nbformat_minor": 0,
  "metadata": {
    "colab": {
      "name": "Greedy_Epsilon_BERNOULI.ipynb",
      "provenance": [],
      "authorship_tag": "ABX9TyNLs2YXgWKMq0n5nY6qwamh",
      "include_colab_link": true
    },
    "kernelspec": {
      "name": "python3",
      "display_name": "Python 3"
    },
    "language_info": {
      "name": "python"
    }
  },
  "cells": [
    {
      "cell_type": "markdown",
      "metadata": {
        "id": "view-in-github",
        "colab_type": "text"
      },
      "source": [
        "<a href=\"https://colab.research.google.com/github/obeabi/Bayesian_AB_Testing/blob/main/Greedy_Epsilon_BERNOULI.ipynb\" target=\"_parent\"><img src=\"https://colab.research.google.com/assets/colab-badge.svg\" alt=\"Open In Colab\"/></a>"
      ]
    },
    {
      "cell_type": "code",
      "metadata": {
        "id": "nZIhdr-okpKB"
      },
      "source": [
        "import matplotlib.pyplot as plt\n",
        "import numpy as np\n"
      ],
      "execution_count": 1,
      "outputs": []
    },
    {
      "cell_type": "code",
      "metadata": {
        "id": "oKSqDz3ooDe6"
      },
      "source": [
        "# Initalize constant\n",
        "NUM_TRIALS = 10000\n",
        "EPS = 0.1\n",
        "\n",
        "\n",
        "# True win rates of bandits or prboabiilties of bandits\n",
        "BANDIT_PROBABILITIES = [0.2, 0.5, 0.75]   "
      ],
      "execution_count": 4,
      "outputs": []
    },
    {
      "cell_type": "markdown",
      "metadata": {
        "id": "HPKDwd0Pol8d"
      },
      "source": [
        "## Epsilon-Greedy Algorithm"
      ]
    },
    {
      "cell_type": "code",
      "metadata": {
        "id": "4r1ycDlPofAu"
      },
      "source": [
        "\n",
        "class BanditArm:\n",
        "  def __init__(self, p):\n",
        "    # p: the win rate\n",
        "    self.p = p\n",
        "    self.p_estimate = 0\n",
        "    self.N = 0\n",
        "  \n",
        "  def pull(self):\n",
        "    # draw a 1 with probability p\n",
        "    return np.random.random() < self.p\n",
        "\n",
        "  def update(self, x):\n",
        "    self.N +=  1 # NUMBER OF SAMPLE COLLECTED\n",
        "    self.p_estimate = ((self.N - 1)* self.p_estimate    + x)/ self.N\n",
        "    #self.p_estimate = self.p_estimate + (( x - self.p_estimate )/ self.N)\n",
        "\n",
        "  def __str__(self) :\n",
        "    return \"This is my bandit class\"\n",
        "    \n",
        "\n",
        "\n"
      ],
      "execution_count": 14,
      "outputs": []
    },
    {
      "cell_type": "code",
      "source": [
        "bandits = [BanditArm(p) for p in BANDIT_PROBABILITIES]\n",
        "print(len(bandits))\n",
        "b = bandits[0]\n",
        "print()\n",
        "print(b)"
      ],
      "metadata": {
        "id": "vXEvjCzLMu3v",
        "outputId": "f707f834-9c36-4d86-8605-c741779d3fa7",
        "colab": {
          "base_uri": "https://localhost:8080/"
        }
      },
      "execution_count": 20,
      "outputs": [
        {
          "output_type": "stream",
          "name": "stdout",
          "text": [
            "3\n",
            "\n",
            "This is my bandit class\n"
          ]
        }
      ]
    },
    {
      "cell_type": "code",
      "source": [
        "y = [b.p for b in bandits]\n",
        "y"
      ],
      "metadata": {
        "id": "99nLJlPcM1dq",
        "outputId": "8bff6935-a4e8-4fda-bfa5-6aba68c12a0e",
        "colab": {
          "base_uri": "https://localhost:8080/"
        }
      },
      "execution_count": 12,
      "outputs": [
        {
          "output_type": "execute_result",
          "data": {
            "text/plain": [
              "[0.2, 0.5, 0.75]"
            ]
          },
          "metadata": {},
          "execution_count": 12
        }
      ]
    },
    {
      "cell_type": "code",
      "source": [
        "np.argmax(y)"
      ],
      "metadata": {
        "id": "DGmip1aONS1z",
        "outputId": "5f7f0aa4-0eea-42db-fb30-4f2061587a21",
        "colab": {
          "base_uri": "https://localhost:8080/"
        }
      },
      "execution_count": 13,
      "outputs": [
        {
          "output_type": "execute_result",
          "data": {
            "text/plain": [
              "2"
            ]
          },
          "metadata": {},
          "execution_count": 13
        }
      ]
    },
    {
      "cell_type": "code",
      "metadata": {
        "colab": {
          "base_uri": "https://localhost:8080/",
          "height": 421
        },
        "id": "UpT_JZIYtT41",
        "outputId": "6702c732-5342-41cc-a077-9ad112136343"
      },
      "source": [
        "def experiment():\n",
        "  bandits = [BanditArm(p) for p in BANDIT_PROBABILITIES]\n",
        "\n",
        "  rewards = np.zeros(NUM_TRIALS)\n",
        "  num_times_explored = 0\n",
        "  num_times_exploited = 0\n",
        "  num_optimal = 0\n",
        "  optimal_j = np.argmax([b.p for b in bandits]) # WILL NOT E KNOWN IN REAL LIFE\n",
        "  print(\"optimal j:\", optimal_j)\n",
        "\n",
        "  for i in range(NUM_TRIALS):\n",
        "\n",
        "    # use epsilon-greedy to select the next bandit\n",
        "    if np.random.random() < EPS:\n",
        "      num_times_explored += 1\n",
        "      j = np.random.randint(len(bandits))\n",
        "\n",
        "    else:\n",
        "      num_times_exploited += 1\n",
        "      j = np.argmax([b.p_estimate for b in bandits])\n",
        "\n",
        "    # Will not be known in real life\n",
        "    if j == optimal_j:\n",
        "      num_optimal += 1\n",
        "\n",
        "    # pull the arm for the bandit with the largest sample\n",
        "    x = bandits[j].pull()\n",
        "\n",
        "    # update rewards log\n",
        "    rewards[i] = x\n",
        "\n",
        "    # update the distribution for the bandit whose arm we just pulled\n",
        "    bandits[j].update(x)\n",
        " \n",
        "  # print mean estimates for each bandit\n",
        "  for b in bandits:\n",
        "    print(\"mean estimate:\", b.p_estimate)\n",
        "\n",
        "  # print total reward\n",
        "  print(\"total reward earned:\", rewards.sum())\n",
        "  print(\"overall win rate:\", rewards.sum() / NUM_TRIALS)\n",
        "  print(\"num_times_explored:\", num_times_explored)\n",
        "  print(\"num_times_exploited:\", num_times_exploited)\n",
        "  print(\"num times selected optimal bandit:\", num_optimal)\n",
        "\n",
        "  # plot the results\n",
        "  cumulative_rewards = np.cumsum(rewards)\n",
        "  win_rates = cumulative_rewards / (np.arange(NUM_TRIALS) + 1)\n",
        "  plt.plot(win_rates,label = 'experiment')\n",
        "  plt.plot(np.ones(NUM_TRIALS)*np.max(BANDIT_PROBABILITIES), label = 'real-life')\n",
        "  plt.legend()\n",
        "  plt.show()\n",
        "\n",
        "\n",
        "if __name__ == \"__main__\":\n",
        "  experiment() \n",
        "\n"
      ],
      "execution_count": 26,
      "outputs": [
        {
          "output_type": "stream",
          "name": "stdout",
          "text": [
            "optimal j: 2\n",
            "mean estimate: 0.18362282878411917\n",
            "mean estimate: 0.49710982658959535\n",
            "mean estimate: 0.7541887363528241\n",
            "total reward earned: 7223.0\n",
            "overall win rate: 0.7223\n",
            "num_times_explored: 993\n",
            "num_times_exploited: 9007\n",
            "num times selected optimal bandit: 9251\n"
          ]
        },
        {
          "output_type": "display_data",
          "data": {
            "text/plain": [
              "<Figure size 432x288 with 1 Axes>"
            ],
            "image/png": "[encoded data removed]"
          },
          "metadata": {
            "needs_background": "light"
          }
        }
      ]
    },
    {
      "cell_type": "markdown",
      "source": [
        "# Adding cooling schedules"
      ],
      "metadata": {
        "id": "9zHZl5iiK9sW"
      }
    },
    {
      "cell_type": "code",
      "source": [
        "# Initalize constant\n",
        "NUM_TRIALS = 10000\n",
        "e_0 = 0.1\n",
        "k   = 0.1\n",
        "alpha = 0.1\n",
        "a = 0.1\n",
        "b = 0.1\n",
        "c = 0.04\n",
        "e_min = 0.08\n",
        "\n",
        "# True win rates of bandits or prboabiilties of bandits\n",
        "BANDIT_PROBABILITIES = [0.2, 0.5, 0.75]   "
      ],
      "metadata": {
        "id": "KDE1MLNGLAc_"
      },
      "execution_count": null,
      "outputs": []
    },
    {
      "cell_type": "markdown",
      "source": [
        "## Epsilon-Greedy Algorithm with cooling schedules incorpoated"
      ],
      "metadata": {
        "id": "DnmbOQZbLHR2"
      }
    },
    {
      "cell_type": "code",
      "source": [
        "\n",
        "class BanditArm:\n",
        "  def __init__(self, p,e_0):\n",
        "    # p: the win rate\n",
        "    self.p = p\n",
        "    self.p_estimate = 0\n",
        "    self.N = 0\n",
        "    self.EPS = e_0\n",
        "\n",
        "  def pull(self):\n",
        "    # draw a 1 with probability p\n",
        "    return np.random.random() < self.p\n",
        "\n",
        "  def update(self, x):\n",
        "    self.N +=  1 # NUMBER OF SAMPLE COLLECTED\n",
        "    #self.p_estimate = ((self.N - 1)* self.p_estimate    + x)/ self.N\n",
        "    self.p_estimate = self.p_estimate + (( x - self.p_estimate )/ self.N)\n",
        "\n",
        "\n",
        "  def update_EPS(self, EPS):\n",
        "      self.EPS = 0*(self.EPS *0.75**0.5)\n",
        "\n",
        "\n"
      ],
      "metadata": {
        "id": "B-XdBIBfLDYl"
      },
      "execution_count": null,
      "outputs": []
    },
    {
      "cell_type": "code",
      "source": [
        "def experiment():\n",
        "  bandits = [BanditArm(p,EPS) for p in BANDIT_PROBABILITIES]\n",
        "\n",
        "  rewards = np.zeros(NUM_TRIALS)\n",
        "  num_times_explored = 0\n",
        "  num_times_exploited = 0\n",
        "  num_optimal = 0\n",
        "  optimal_j = np.argmax([b.p for b in bandits]) # WILL NOT E KNOWN IN REAL LIFE\n",
        "  print(\"optimal j:\", optimal_j)\n",
        "\n",
        "  for i in range(NUM_TRIALS):\n",
        "\n",
        "    # use epsilon-greedy to select the next bandit\n",
        "    if np.random.random() < EPS:\n",
        "      num_times_explored += 1\n",
        "      j = np.random.randint(len(bandits))\n",
        "\n",
        "    else:\n",
        "      num_times_exploited += 1\n",
        "      j = np.argmax([b.p_estimate for b in bandits])\n",
        "\n",
        "    # Will not be known in real life\n",
        "    if j == optimal_j:\n",
        "      num_optimal += 1\n",
        "\n",
        "    # pull the arm for the bandit with the largest sample\n",
        "    x = bandits[j].pull()\n",
        "\n",
        "    # update rewards log\n",
        "    rewards[i] = x\n",
        "\n",
        "    # update the distribution for the bandit whose arm we just pulled\n",
        "    bandits[j].update(x)\n",
        "\n",
        "      # update the distribution for the bandit whose arm we just pulled\n",
        "    bandits[j].update_EPS(EPS)\n",
        "     \n",
        "\n",
        " \n",
        "\n",
        "  # print mean estimates for each bandit\n",
        "  for b in bandits:\n",
        "    print(\"mean estimate:\", b.p_estimate)\n",
        "\n",
        "  # print total reward\n",
        "  print(\"total reward earned:\", rewards.sum())\n",
        "  print(\"overall win rate:\", rewards.sum() / NUM_TRIALS)\n",
        "  print(\"num_times_explored:\", num_times_explored)\n",
        "  print(\"num_times_exploited:\", num_times_exploited)\n",
        "  #print(\"num times selected optimal bandit:\", num_optimal)\n",
        "\n",
        "  # plot the results\n",
        "  cumulative_rewards = np.cumsum(rewards)\n",
        "  win_rates = cumulative_rewards / (np.arange(NUM_TRIALS) + 1)\n",
        "  plt.plot(win_rates)\n",
        "  #plt.plot(np.ones(NUM_TRIALS)*np.max(BANDIT_PROBABILITIES))\n",
        "  plt.show()\n",
        "\n",
        "\n",
        "if __name__ == \"__main__\":\n",
        "  experiment() \n",
        "\n"
      ],
      "metadata": {
        "id": "XGW4bzDXLQ7N"
      },
      "execution_count": null,
      "outputs": []
    }
  ]
}