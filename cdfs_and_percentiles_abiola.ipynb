{
  "nbformat": 4,
  "nbformat_minor": 0,
  "metadata": {
    "colab": {
      "name": "cdfs-and_percentiles_abiola.ipynb",
      "provenance": [],
      "collapsed_sections": [],
      "authorship_tag": "ABX9TyOqjHvso5it9UB92R+BM8Co",
      "include_colab_link": true
    },
    "kernelspec": {
      "name": "python3",
      "display_name": "Python 3"
    },
    "language_info": {
      "name": "python"
    }
  },
  "cells": [
    {
      "cell_type": "markdown",
      "metadata": {
        "id": "view-in-github",
        "colab_type": "text"
      },
      "source": [
        "<a href=\"https://colab.research.google.com/github/obeabi/Bayesian_AB_Testing/blob/main/cdfs_and_percentiles_abiola.ipynb\" target=\"_parent\"><img src=\"https://colab.research.google.com/assets/colab-badge.svg\" alt=\"Open In Colab\"/></a>"
      ]
    },
    {
      "cell_type": "markdown",
      "metadata": {
        "id": "jKWkegpA2g8w"
      },
      "source": [
        "# Examples on CDFs and Percentiles on continous distributions"
      ]
    },
    {
      "cell_type": "code",
      "metadata": {
        "id": "OV7-255G2VV-",
        "colab": {
          "base_uri": "https://localhost:8080/"
        },
        "outputId": "a98937c4-79de-4a08-a2ec-abfbe19beffa"
      },
      "source": [
        "import numpy as np\n",
        "import matplotlib.pyplot as plt\n",
        "from scipy.stats import norm\n",
        "import statistics\n",
        "np.random.seed(0)\n",
        "\n",
        "print('Libraries installed successfully!')"
      ],
      "execution_count": 1,
      "outputs": [
        {
          "output_type": "stream",
          "name": "stdout",
          "text": [
            "Libraries installed successfully!\n"
          ]
        }
      ]
    },
    {
      "cell_type": "code",
      "metadata": {
        "id": "liWas2kU29tu"
      },
      "source": [
        "# Set mean and standard deviation\n",
        "mu = 170\n",
        "sd = 7"
      ],
      "execution_count": 3,
      "outputs": []
    },
    {
      "cell_type": "code",
      "metadata": {
        "id": "szLDw6rw3s3k"
      },
      "source": [
        "# generate samples from our distribution\n",
        "x = norm.rvs(loc = mu, scale = sd, size = 1000)"
      ],
      "execution_count": 9,
      "outputs": []
    },
    {
      "cell_type": "code",
      "metadata": {
        "colab": {
          "base_uri": "https://localhost:8080/"
        },
        "id": "qqhzgmuQ5ICB",
        "outputId": "240d4897-54b7-48f4-a212-25f037706b5c"
      },
      "source": [
        "# Check maximum likehood mean\n",
        "print(x.mean())"
      ],
      "execution_count": 10,
      "outputs": [
        {
          "output_type": "stream",
          "name": "stdout",
          "text": [
            "169.63932909295923\n"
          ]
        }
      ]
    },
    {
      "cell_type": "code",
      "metadata": {
        "colab": {
          "base_uri": "https://localhost:8080/"
        },
        "id": "dpC-DiJX5Y8-",
        "outputId": "f5b69f94-b32f-4837-9f9d-1616115f13fa"
      },
      "source": [
        "# Check maximum likelihood variance\n",
        "print(x.var())"
      ],
      "execution_count": 11,
      "outputs": [
        {
          "output_type": "stream",
          "name": "stdout",
          "text": [
            "46.777975155206015\n"
          ]
        }
      ]
    },
    {
      "cell_type": "code",
      "metadata": {
        "colab": {
          "base_uri": "https://localhost:8080/"
        },
        "id": "XUVrpmSgKcLJ",
        "outputId": "f68cdc6f-2d1c-4f8b-a67e-a0cda876f612"
      },
      "source": [
        "# calculate the maximum likelihood std\n",
        "print((x.var())**0.5)\n",
        "print(\"The std is also calculated as :\", x.std())"
      ],
      "execution_count": 13,
      "outputs": [
        {
          "output_type": "stream",
          "name": "stdout",
          "text": [
            "6.8394426055933835\n",
            "The std is also calculated as : 6.8394426055933835\n"
          ]
        }
      ]
    },
    {
      "cell_type": "code",
      "metadata": {
        "colab": {
          "base_uri": "https://localhost:8080/"
        },
        "id": "-a_9QP5-5NI7",
        "outputId": "9c2d5c3b-3fb7-4cf9-95de-171dd00b6a1e"
      },
      "source": [
        "# unbiased estimate of std\n",
        "print(x.std(ddof=1))\n",
        "y = (((x -x.mean())**2).sum()/(len(x)-1))**0.5\n",
        "print(\"Standard deviation caluclated by formular is :\", y)"
      ],
      "execution_count": 16,
      "outputs": [
        {
          "output_type": "stream",
          "name": "stdout",
          "text": [
            "6.842864893826355\n",
            "Standard deviation caluclated by formular is : 6.842864893826355\n"
          ]
        }
      ]
    },
    {
      "cell_type": "code",
      "metadata": {
        "colab": {
          "base_uri": "https://localhost:8080/"
        },
        "id": "vrag4mIzL9pl",
        "outputId": "64e1544c-bfde-4065-a272-cc4befc8183e"
      },
      "source": [
        "# at what height are you in the 95th percentile?\n",
        "norm.ppf(0.95, loc=mu, scale = sd)"
      ],
      "execution_count": 18,
      "outputs": [
        {
          "output_type": "execute_result",
          "data": {
            "text/plain": [
              "181.5139753886603"
            ]
          },
          "metadata": {},
          "execution_count": 18
        }
      ]
    },
    {
      "cell_type": "code",
      "metadata": {
        "colab": {
          "base_uri": "https://localhost:8080/"
        },
        "id": "NFFQZHC9MULp",
        "outputId": "2ff065dc-96a2-4ab2-b227-676037e57558"
      },
      "source": [
        "# you are 160 cm tall, what percentile are you in ?\n",
        "norm.cdf(160, loc= mu, scale = sd)"
      ],
      "execution_count": 19,
      "outputs": [
        {
          "output_type": "execute_result",
          "data": {
            "text/plain": [
              "0.07656372550983476"
            ]
          },
          "metadata": {},
          "execution_count": 19
        }
      ]
    },
    {
      "cell_type": "code",
      "metadata": {
        "colab": {
          "base_uri": "https://localhost:8080/"
        },
        "id": "UhLnj6BVMfcr",
        "outputId": "a3a6012a-71cf-4253-f986-9554a157c1fe"
      },
      "source": [
        "# If you are 180 cm tall, what is the probability that someone is taller than you?\n",
        "1- norm.cdf(180, loc= mu, scale = sd)"
      ],
      "execution_count": 22,
      "outputs": [
        {
          "output_type": "execute_result",
          "data": {
            "text/plain": [
              "0.07656372550983481"
            ]
          },
          "metadata": {},
          "execution_count": 22
        }
      ]
    },
    {
      "cell_type": "code",
      "metadata": {
        "colab": {
          "base_uri": "https://localhost:8080/"
        },
        "id": "wU485w9xM4gY",
        "outputId": "1cde9375-b9df-4adb-cd73-28f8797d09b8"
      },
      "source": [
        "# If you are 180 cm tall, what is the probability that someone is taller than you? (survival function)\n",
        "norm.sf(180, loc= mu, scale = sd)"
      ],
      "execution_count": 23,
      "outputs": [
        {
          "output_type": "execute_result",
          "data": {
            "text/plain": [
              "0.07656372550983476"
            ]
          },
          "metadata": {},
          "execution_count": 23
        }
      ]
    },
    {
      "cell_type": "code",
      "metadata": {
        "colab": {
          "base_uri": "https://localhost:8080/",
          "height": 265
        },
        "id": "wKgY_e903Ecs",
        "outputId": "1eded8a9-29a2-4550-a3ab-ce543f678a04"
      },
      "source": [
        "# Plot between -10 and 10 with .001 steps.\n",
        "x_axis = np.arange(75, 200, 5)\n",
        "  \n",
        "# Calculating mean and standard deviation\n",
        "mean = statistics.mean(x_axis)\n",
        "sd = statistics.stdev(x_axis)\n",
        "  \n",
        "plt.plot(x_axis, norm.pdf(x_axis, mean, sd))\n",
        "plt.show()"
      ],
      "execution_count": 6,
      "outputs": [
        {
          "output_type": "display_data",
          "data": {
            "image/png": "[encoded data removed]",
            "text/plain": [
              "<Figure size 432x288 with 1 Axes>"
            ]
          },
          "metadata": {
            "needs_background": "light"
          }
        }
      ]
    }
  ]
}