{
  "nbformat": 4,
  "nbformat_minor": 0,
  "metadata": {
    "colab": {
      "name": "Optimistic_InitialValue_Bernouli.ipynb",
      "provenance": [],
      "authorship_tag": "ABX9TyPbXAW/C4v6s+xFCpaumbQQ",
      "include_colab_link": true
    },
    "kernelspec": {
      "name": "python3",
      "display_name": "Python 3"
    },
    "language_info": {
      "name": "python"
    }
  },
  "cells": [
    {
      "cell_type": "markdown",
      "metadata": {
        "id": "view-in-github",
        "colab_type": "text"
      },
      "source": [
        "<a href=\"https://colab.research.google.com/github/obeabi/Bayesian_AB_Testing/blob/main/Optimistic_InitialValue_Bernouli.ipynb\" target=\"_parent\"><img src=\"https://colab.research.google.com/assets/colab-badge.svg\" alt=\"Open In Colab\"/></a>"
      ]
    },
    {
      "cell_type": "code",
      "metadata": {
        "id": "MCk92RuGZU-F"
      },
      "source": [
        "\n",
        "import matplotlib.pyplot as plt\n",
        "import numpy as np"
      ],
      "execution_count": 3,
      "outputs": []
    },
    {
      "cell_type": "code",
      "metadata": {
        "id": "LnOzOzSxZpnm"
      },
      "source": [
        "NUM_TRIALS = 10000\n",
        "EPS = 0.1\n",
        "BANDIT_PROBABILITIES = [0.2, 0.5, 0.75]"
      ],
      "execution_count": 4,
      "outputs": []
    },
    {
      "cell_type": "markdown",
      "metadata": {
        "id": "AyeVZ0pKZq0M"
      },
      "source": [
        "## Bandit arm class"
      ]
    },
    {
      "cell_type": "code",
      "metadata": {
        "id": "CH9mxYqvZukx"
      },
      "source": [
        "class Bandit:\n",
        "  def __init__(self, p,EPS):\n",
        "    # p: the win rate\n",
        "    self.p = p\n",
        "    self.p_estimate = 10\n",
        "    self.N = 1\n",
        "    self.EPS = EPS\n",
        "\n",
        "  def pull(self):\n",
        "    # draw a 1 with probability p\n",
        "    return np.random.random() < self.p\n",
        "\n",
        "  def update(self, x):\n",
        "    self.N +=1\n",
        "    self.p_estimate = ((self.N - 1)* self.p_estimate    + x)/ self.N\n",
        "\n",
        "  def update_EPS(self, EPS):\n",
        "      self.EPS = 0*(self.EPS *0.75**0.5)\n"
      ],
      "execution_count": 14,
      "outputs": []
    },
    {
      "cell_type": "markdown",
      "metadata": {
        "id": "3vhvuiRzafpb"
      },
      "source": [
        "## Run experiment"
      ]
    },
    {
      "cell_type": "code",
      "metadata": {
        "id": "q_oK8aLLabGh"
      },
      "source": [
        "def experiment():\n",
        "  bandits = [Bandit(p,EPS) for p in BANDIT_PROBABILITIES]\n",
        "\n",
        "  rewards = np.zeros(NUM_TRIALS)\n",
        "  for i in range(NUM_TRIALS):\n",
        "    # use optimistic initial values to select the next bandit\n",
        "    j = np.argmax([b.p_estimate for b in bandits])\n",
        "\n",
        "    # pull the arm for the bandit with the largest sample\n",
        "    x = bandits[j].pull()\n",
        "\n",
        "    # update rewards log\n",
        "    rewards[i] = x\n",
        "\n",
        "    # update the distribution for the bandit whose arm we just pulled\n",
        "    bandits[j].update(x)\n",
        "\n",
        "    # update the EPS for the bandit whose arm we just pulled\n",
        "    bandits[j].update_EPS(EPS)\n",
        "\n",
        "  # print mean estimates for each bandit\n",
        "  for b in bandits:\n",
        "    print(\"mean estimate:\", b.p_estimate)\n",
        "\n",
        "  # print total reward\n",
        "  print(\"total reward earned:\", rewards.sum())\n",
        "  print(\"overall win rate:\", rewards.sum() / NUM_TRIALS)\n",
        "  print(\"num times selected each bandit:\", [b.N for b in bandits])\n",
        "\n",
        "  # plot the results\n",
        "  cumulative_rewards = np.cumsum(rewards)\n",
        "  win_rates = cumulative_rewards / (np.arange(NUM_TRIALS) + 1)\n",
        "  plt.ylim([0, 1])\n",
        "  plt.plot(win_rates)\n",
        "  plt.plot(np.ones(NUM_TRIALS)*np.max(BANDIT_PROBABILITIES))\n",
        "  plt.show()"
      ],
      "execution_count": 18,
      "outputs": []
    },
    {
      "cell_type": "code",
      "metadata": {
        "colab": {
          "base_uri": "https://localhost:8080/",
          "height": 373
        },
        "id": "A_pH9Mp3a3zk",
        "outputId": "8c21b957-61d5-477a-a6d8-62d7c62014ef"
      },
      "source": [
        "# results\n",
        "if __name__ == \"__main__\":\n",
        "  experiment()"
      ],
      "execution_count": 19,
      "outputs": [
        {
          "output_type": "stream",
          "name": "stdout",
          "text": [
            "mean estimate: 0.7222222222222222\n",
            "mean estimate: 0.7419354838709677\n",
            "mean estimate: 0.7481414506730963\n",
            "total reward earned: 7453.0\n",
            "overall win rate: 0.7453\n",
            "num times selected each bandit: [18, 31, 9954]\n"
          ]
        },
        {
          "output_type": "display_data",
          "data": {
            "image/png": "[encoded data removed]",
            "text/plain": [
              "<Figure size 432x288 with 1 Axes>"
            ]
          },
          "metadata": {
            "needs_background": "light"
          }
        }
      ]
    }
  ]
}