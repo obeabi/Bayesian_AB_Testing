{
  "nbformat": 4,
  "nbformat_minor": 0,
  "metadata": {
    "colab": {
      "name": "Optimistic_InitialValue_Bernouli.ipynb",
      "provenance": [],
      "authorship_tag": "ABX9TyMeMi7Z9iv9HQ4FGh5gE8MA",
      "include_colab_link": true
    },
    "kernelspec": {
      "name": "python3",
      "display_name": "Python 3"
    },
    "language_info": {
      "name": "python"
    }
  },
  "cells": [
    {
      "cell_type": "markdown",
      "metadata": {
        "id": "view-in-github",
        "colab_type": "text"
      },
      "source": [
        "<a href=\"https://colab.research.google.com/github/obeabi/Bayesian_AB_Testing/blob/main/Optimistic_InitialValue_Bernouli.ipynb\" target=\"_parent\"><img src=\"https://colab.research.google.com/assets/colab-badge.svg\" alt=\"Open In Colab\"/></a>"
      ]
    },
    {
      "cell_type": "code",
      "metadata": {
        "id": "MCk92RuGZU-F"
      },
      "source": [
        "import matplotlib.pyplot as plt\n",
        "import numpy as np"
      ],
      "execution_count": 1,
      "outputs": []
    },
    {
      "cell_type": "code",
      "metadata": {
        "id": "LnOzOzSxZpnm"
      },
      "source": [
        "NUM_TRIALS = 100000\n",
        "BANDIT_PROBABILITIES = [0.1, 0.3, 0.8]"
      ],
      "execution_count": 12,
      "outputs": []
    },
    {
      "cell_type": "markdown",
      "metadata": {
        "id": "AyeVZ0pKZq0M"
      },
      "source": [
        "## Bandit arm class"
      ]
    },
    {
      "cell_type": "code",
      "metadata": {
        "id": "CH9mxYqvZukx"
      },
      "source": [
        "class Bandit:\n",
        "  def __init__(self, p):\n",
        "    # p: the win rate\n",
        "    self.p = p\n",
        "    self.p_estimate = 50\n",
        "    self.N = 1\n",
        "\n",
        "  def pull(self):\n",
        "    # draw a 1 with probability p\n",
        "    return np.random.random() < self.p\n",
        "\n",
        "  def update(self, x):\n",
        "    self.N +=1\n",
        "    self.p_estimate = ((self.N - 1)* self.p_estimate    + x)/ self.N\n"
      ],
      "execution_count": 13,
      "outputs": []
    },
    {
      "cell_type": "markdown",
      "metadata": {
        "id": "3vhvuiRzafpb"
      },
      "source": [
        "## Run experiment"
      ]
    },
    {
      "cell_type": "code",
      "metadata": {
        "id": "q_oK8aLLabGh"
      },
      "source": [
        "def experiment():\n",
        "  bandits = [Bandit(p) for p in BANDIT_PROBABILITIES]\n",
        "\n",
        "  rewards = np.zeros(NUM_TRIALS)\n",
        "  for i in range(NUM_TRIALS):\n",
        "    # use optimistic initial values to select the next bandit\n",
        "    j = np.argmax([b.p_estimate for b in bandits])\n",
        "\n",
        "    # pull the arm for the bandit with the largest sample\n",
        "    x = bandits[j].pull()\n",
        "\n",
        "    # update rewards log\n",
        "    rewards[i] = x\n",
        "\n",
        "    # update the distribution for the bandit whose arm we just pulled\n",
        "    bandits[j].update(x)\n",
        "\n",
        "  # print mean estimates for each bandit\n",
        "  for b in bandits:\n",
        "    print(\"mean estimate:\", b.p_estimate)\n",
        "\n",
        "  # print total reward\n",
        "  print(\"total reward earned:\", rewards.sum())\n",
        "  print(\"overall win rate:\", rewards.sum() / NUM_TRIALS)\n",
        "  print(\"num times selected each bandit:\", [b.N for b in bandits])\n",
        "\n",
        "  # plot the results\n",
        "  cumulative_rewards = np.cumsum(rewards)\n",
        "  win_rates = cumulative_rewards / (np.arange(NUM_TRIALS) + 1)\n",
        "  plt.ylim([0, 1])\n",
        "  plt.plot(win_rates)\n",
        "  plt.plot(np.ones(NUM_TRIALS)*np.max(BANDIT_PROBABILITIES))\n",
        "  plt.show()"
      ],
      "execution_count": 14,
      "outputs": []
    },
    {
      "cell_type": "code",
      "metadata": {
        "colab": {
          "base_uri": "https://localhost:8080/",
          "height": 373
        },
        "id": "A_pH9Mp3a3zk",
        "outputId": "24e01fc3-64f7-4375-d5fb-93b07794e45f"
      },
      "source": [
        "# results\n",
        "if __name__ == \"__main__\":\n",
        "  experiment()"
      ],
      "execution_count": 15,
      "outputs": [
        {
          "output_type": "stream",
          "name": "stdout",
          "text": [
            "mean estimate: 0.7894736842105256\n",
            "mean estimate: 0.7878787878787876\n",
            "mean estimate: 0.7995652522338375\n",
            "total reward earned: 79807.0\n",
            "overall win rate: 0.79807\n",
            "num times selected each bandit: [76, 99, 99828]\n"
          ]
        },
        {
          "output_type": "display_data",
          "data": {
            "text/plain": [
              "<Figure size 432x288 with 1 Axes>"
            ],
            "image/png": "[encoded data removed]"
          },
          "metadata": {
            "needs_background": "light"
          }
        }
      ]
    }
  ]
}